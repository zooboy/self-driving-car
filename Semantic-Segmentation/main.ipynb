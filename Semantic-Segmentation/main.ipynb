{
 "cells": [
  {
   "cell_type": "code",
   "execution_count": 1,
   "metadata": {
    "collapsed": true
   },
   "outputs": [],
   "source": [
    "# %load main.py\n",
    "import os.path\n",
    "import tensorflow as tf\n",
    "import helper\n",
    "import warnings\n",
    "from distutils.version import LooseVersion\n",
    "import project_tests as tests\n",
    "import matplotlib.pyplot as plt\n",
    "import pandas as pd\n",
    "import numpy as np"
   ]
  },
  {
   "cell_type": "code",
   "execution_count": 2,
   "metadata": {},
   "outputs": [
    {
     "name": "stdout",
     "output_type": "stream",
     "text": [
      "TensorFlow Version: 1.0.1\n"
     ]
    }
   ],
   "source": [
    "# Check TensorFlow Version\n",
    "assert LooseVersion(tf.__version__) >= LooseVersion('1.0'), 'Please use TensorFlow version 1.0 or newer.  You are using {}'.format(tf.__version__)\n",
    "print('TensorFlow Version: {}'.format(tf.__version__))"
   ]
  },
  {
   "cell_type": "code",
   "execution_count": 3,
   "metadata": {},
   "outputs": [
    {
     "name": "stdout",
     "output_type": "stream",
     "text": [
      "Default GPU Device: /gpu:0\n"
     ]
    }
   ],
   "source": [
    "# Check for a GPU\n",
    "if not tf.test.gpu_device_name():\n",
    "    warnings.warn('No GPU found. Please use a GPU to train your neural network.')\n",
    "else:\n",
    "    print('Default GPU Device: {}'.format(tf.test.gpu_device_name()))"
   ]
  },
  {
   "cell_type": "code",
   "execution_count": 4,
   "metadata": {},
   "outputs": [
    {
     "name": "stdout",
     "output_type": "stream",
     "text": [
      "Tests Passed\n"
     ]
    }
   ],
   "source": [
    "def load_vgg(sess, vgg_path):\n",
    "    \"\"\"\n",
    "    Load Pretrained VGG Model into TensorFlow.\n",
    "    :param sess: TensorFlow Session\n",
    "    :param vgg_path: Path to vgg folder, containing \"variables/\" and \"saved_model.pb\"\n",
    "    :return: Tuple of Tensors from VGG model (image_input, keep_prob, layer3_out, layer4_out, layer7_out)\n",
    "    \"\"\"\n",
    "    # TODO: Implement function\n",
    "    #   Use tf.saved_model.loader.load to load the model and weights\n",
    "    vgg_tag = 'vgg16'\n",
    "    vgg_input_tensor_name = 'image_input:0'\n",
    "    vgg_keep_prob_tensor_name = 'keep_prob:0'\n",
    "    vgg_layer3_out_tensor_name = 'layer3_out:0'\n",
    "    vgg_layer4_out_tensor_name = 'layer4_out:0'\n",
    "    vgg_layer7_out_tensor_name = 'layer7_out:0'\n",
    "   \n",
    "    tf.saved_model.loader.load(sess,[vgg_tag],vgg_path)\n",
    "    graph = tf.get_default_graph()\n",
    "    v_input = graph.get_tensor_by_name(vgg_input_tensor_name)\n",
    "    keep = graph.get_tensor_by_name(vgg_keep_prob_tensor_name)\n",
    "    v_l_3 = graph.get_tensor_by_name(vgg_layer3_out_tensor_name)\n",
    "    v_l_4 = graph.get_tensor_by_name(vgg_layer4_out_tensor_name)\n",
    "    v_l_7 = graph.get_tensor_by_name(vgg_layer7_out_tensor_name)\n",
    "    \n",
    "    \n",
    "    return v_input, keep, v_l_3, v_l_4, v_l_7\n",
    "tests.test_load_vgg(load_vgg, tf)"
   ]
  },
  {
   "cell_type": "code",
   "execution_count": 5,
   "metadata": {},
   "outputs": [
    {
     "name": "stdout",
     "output_type": "stream",
     "text": [
      "Tests Passed\n"
     ]
    }
   ],
   "source": [
    "def layers(vgg_layer3_out, vgg_layer4_out, vgg_layer7_out, num_classes):\n",
    "    \"\"\"\n",
    "    Create the layers for a fully convolutional network.  Build skip-layers using the vgg layers.\n",
    "    :param vgg_layer3_out: TF Tensor for VGG Layer 3 output\n",
    "    :param vgg_layer4_out: TF Tensor for VGG Layer 4 output\n",
    "    :param vgg_layer7_out: TF Tensor for VGG Layer 7 output\n",
    "    :param num_classes: Number of classes to classify\n",
    "    :return: The Tensor for the last layer of output\n",
    "    \"\"\"\n",
    "    # TODO: Implement function\n",
    "    conv_1x1_7 = tf.layers.conv2d(vgg_layer7_out,num_classes,1,padding='same',\n",
    "                                kernel_regularizer=tf.contrib.layers.l2_regularizer(1e-3),\n",
    "                                  kernel_initializer=tf.truncated_normal_initializer(stddev=0.01))\n",
    "    \n",
    "    conv_1x1_4 = tf.layers.conv2d(vgg_layer4_out,num_classes,1,padding='same',\n",
    "                                kernel_regularizer=tf.contrib.layers.l2_regularizer(1e-3),\n",
    "                                 kernel_initializer=tf.truncated_normal_initializer(stddev=0.01))\n",
    "    \n",
    "    conv_1x1_3 = tf.layers.conv2d(vgg_layer3_out,num_classes,1,padding='same',\n",
    "                                kernel_regularizer=tf.contrib.layers.l2_regularizer(1e-3),\n",
    "                                 kernel_initializer=tf.truncated_normal_initializer(stddev=0.01))\n",
    "    \n",
    "    \n",
    "    output = tf.layers.conv2d_transpose(conv_1x1_7,num_classes,4,2,padding='same',\n",
    "                                kernel_regularizer=tf.contrib.layers.l2_regularizer(1e-3),\n",
    "                                       kernel_initializer=tf.truncated_normal_initializer(stddev=0.01))\n",
    "    \n",
    "    \n",
    "    output = tf.add(output, conv_1x1_4)\n",
    "    \n",
    "    \n",
    "    output =  tf.layers.conv2d_transpose(output,num_classes,4,2,padding='same',\n",
    "                                 kernel_regularizer=tf.contrib.layers.l2_regularizer(1e-3),\n",
    "                                         kernel_initializer=tf.truncated_normal_initializer(stddev=0.01))\n",
    "\n",
    "    \n",
    "    output = tf.add(output,conv_1x1_3)\n",
    "    \n",
    "    output = tf.layers.conv2d_transpose(output,num_classes,16,8,padding='same',\n",
    "                                 kernel_regularizer=tf.contrib.layers.l2_regularizer(1e-3),\n",
    "                                        kernel_initializer=tf.truncated_normal_initializer(stddev=0.01))\n",
    "    return output\n",
    "tests.test_layers(layers)"
   ]
  },
  {
   "cell_type": "code",
   "execution_count": 1,
   "metadata": {
    "collapsed": true
   },
   "outputs": [],
   "source": [
    "def optimize(nn_last_layer, correct_label, learning_rate, num_classes):\n",
    "    \"\"\"\n",
    "    Build the TensorFLow loss and optimizer operations.\n",
    "    :param nn_last_layer: TF Tensor of the last layer in the neural network\n",
    "    :param correct_label: TF Placeholder for the correct label image\n",
    "    :param learning_rate: TF Placeholder for the learning rate\n",
    "    :param num_classes: Number of classes to classify\n",
    "    :return: Tuple of (logits, train_op, cross_entropy_loss)\n",
    "    \"\"\"\n",
    "    # TODO: Implement function\n",
    "    \n",
    "    \n",
    "    logits = tf.reshape(nn_last_layer, (-1, num_classes))\n",
    "    labels = tf.reshape(correct_label, (-1, num_classes))\n",
    "    # add  REGULARIZATION_LOSSES\n",
    "    reg_ws = tf.get_collection(tf.GraphKeys.REGULARIZATION_LOSSES)\n",
    "    printloss = tf.reduce_mean(tf.nn.softmax_cross_entropy_with_logits(logits=logits, labels=labels))\n",
    "    cross_entropy_loss = printloss + tf.reduce_sum(reg_ws)\n",
    "    \n",
    "    train_op = tf.train.AdamOptimizer(learning_rate=learning_rate).minimize(cross_entropy_loss)\n",
    "    \n",
    "\n",
    "    \n",
    "    return logits, train_op, cross_entropy_loss,printloss\n",
    "#tests.test_optimize(optimize)"
   ]
  },
  {
   "cell_type": "code",
   "execution_count": 7,
   "metadata": {
    "collapsed": true
   },
   "outputs": [],
   "source": [
    "def train_nn(sess, epochs, batch_size, get_batches_fn, train_op, cross_entropy_loss, input_image,\n",
    "             correct_label, keep_prob, learning_rate,printloss):\n",
    "    \"\"\"\n",
    "    Train neural network and print out the loss during training.\n",
    "    :param sess: TF Session\n",
    "    :param epochs: Number of epochs\n",
    "    :param batch_size: Batch size\n",
    "    :param get_batches_fn: Function to get batches of training data.  Call using get_batches_fn(batch_size)\n",
    "    :param train_op: TF Operation to train the neural network\n",
    "    :param cross_entropy_loss: TF Tensor for the amount of loss\n",
    "    :param input_image: TF Placeholder for input images\n",
    "    :param correct_label: TF Placeholder for label images\n",
    "    :param keep_prob: TF Placeholder for dropout keep probability\n",
    "    :param learning_rate: TF Placeholder for learning rate\n",
    "    \"\"\"\n",
    "    # TODO: Implement function\n",
    "    import time \n",
    "    batch = 0 \n",
    "    mean_loss = 0\n",
    "   \n",
    "    statDf =[]\n",
    "    for epoch in range(epochs):\n",
    "        start = time.time()\n",
    "        for images, labels in get_batches_fn(batch_size):\n",
    "            _,loss,ploss = sess.run([train_op,cross_entropy_loss,printloss],\n",
    "                     feed_dict={input_image: images, correct_label: labels, keep_prob: 0.4,learning_rate : 1e-4})\n",
    "            \n",
    "            batch+=1\n",
    "            mean_loss+=ploss\n",
    "            print(\"epoch: {}, batch:{}, loss: {:.4f}\".format(epoch+1,batch,ploss))\n",
    "           \n",
    "        end = time.time()    \n",
    "        mean_loss = mean_loss/batch\n",
    "        print(\"epoch: {},  mean loss: {:.4f}, sec/epoch :{:.2f} \".format(epoch+1, mean_loss,end-start))\n",
    "        statDf.append([epoch+1,mean_loss])\n",
    "        batch = 0\n",
    "        mean_loss = 0\n",
    "    statDf = np.array(statDf)\n",
    "    statDf = pd.DataFrame(data=statDf,columns=['epoch','meanloss'])        \n",
    "           \n",
    "    return statDf\n",
    "\n",
    "#tests.test_train_nn(train_nn)"
   ]
  },
  {
   "cell_type": "code",
   "execution_count": null,
   "metadata": {
    "collapsed": true
   },
   "outputs": [],
   "source": [
    "def run():\n",
    "    num_classes = 2\n",
    "    image_shape = (160, 576)\n",
    "    data_dir = './data'\n",
    "    runs_dir = './runs'\n",
    "    tests.test_for_kitti_dataset(data_dir)\n",
    "\n",
    "    # Download pretrained vgg model\n",
    "    helper.maybe_download_pretrained_vgg(data_dir)\n",
    "\n",
    "    # OPTIONAL: Train and Inference on the cityscapes dataset instead of the Kitti dataset.\n",
    "    # You'll need a GPU with at least 10 teraFLOPS to train on.\n",
    "    #  https://www.cityscapes-dataset.com/\n",
    "\n",
    "    with tf.Session() as sess:\n",
    "        # Path to vgg model\n",
    "        vgg_path = os.path.join(data_dir, 'vgg')\n",
    "        # Create function to get batches\n",
    "        get_batches_fn = helper.gen_batch_function(os.path.join(data_dir, 'data_road/training'), image_shape)\n",
    "\n",
    "        # OPTIONAL: Augment Images for better results\n",
    "        #  https://datascience.stackexchange.com/questions/5224/how-to-prepare-augment-images-for-neural-network\n",
    "\n",
    "        # TODO: Build NN using load_vgg, layers, and optimize function\n",
    "        \n",
    "        epochs=25\n",
    "        batch_size=5\n",
    "        input_image, keep_prob, layer3_out, layer4_out, layer7_out= load_vgg(sess, vgg_path)\n",
    "        layer_out=layers(layer3_out, layer4_out,layer7_out,num_classes)\n",
    "        label = tf.placeholder(tf.int32, shape=[None, None, None, num_classes])\n",
    "        learning_rate = tf.placeholder(tf.float32)\n",
    "        logits, train_op,loss,ploss=optimize(layer_out,label,learning_rate,num_classes)\n",
    "        \n",
    "        \n",
    "        # TODO: Train NN using the train_nn function\n",
    "        \n",
    "        sess.run(tf.global_variables_initializer())\n",
    "        statDf = train_nn(sess,epochs,batch_size,get_batches_fn,train_op,loss,input_image,label,keep_prob,learning_rate,ploss)\n",
    "        # TODO: Save inference data using helper.save_inference_samples\n",
    "\n",
    "        helper.save_inference_samples(runs_dir, data_dir, sess, image_shape, logits, keep_prob, input_image)\n",
    "        statDf.plot(x='epoch',y ='meanloss',kind = 'line',grid=True,xticks = statDf.epoch)\n",
    "        plt.show()\n",
    "        \n",
    "\n",
    "        return\n",
    "    \n",
    "        #  helper.save_inference_samples(runs_dir, data_dir, sess, image_shape, logits, keep_prob, input_image)\n",
    "\n",
    "    \n",
    "        \n",
    "        \n",
    "        \n",
    "\n",
    "\n",
    "if __name__ == '__main__':\n",
    "    run()"
   ]
  },
  {
   "cell_type": "code",
   "execution_count": null,
   "metadata": {
    "collapsed": true
   },
   "outputs": [],
   "source": []
  },
  {
   "cell_type": "code",
   "execution_count": null,
   "metadata": {
    "collapsed": true
   },
   "outputs": [],
   "source": []
  },
  {
   "cell_type": "code",
   "execution_count": null,
   "metadata": {
    "collapsed": true
   },
   "outputs": [],
   "source": []
  }
 ],
 "metadata": {
  "kernelspec": {
   "display_name": "Python 3",
   "language": "python",
   "name": "python3"
  },
  "language_info": {
   "codemirror_mode": {
    "name": "ipython",
    "version": 3
   },
   "file_extension": ".py",
   "mimetype": "text/x-python",
   "name": "python",
   "nbconvert_exporter": "python",
   "pygments_lexer": "ipython3",
   "version": "3.5.3"
  }
 },
 "nbformat": 4,
 "nbformat_minor": 2
}
